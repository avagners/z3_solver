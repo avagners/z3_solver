{
 "cells": [
  {
   "cell_type": "code",
   "execution_count": 3,
   "id": "76b8b66e-a534-4e43-98e0-cda7dc639963",
   "metadata": {},
   "outputs": [],
   "source": [
    "from z3 import *"
   ]
  },
  {
   "cell_type": "markdown",
   "id": "5db8d9fc-3e8d-46f6-a3f6-59f1b112fb6f",
   "metadata": {
    "jp-MarkdownHeadingCollapsed": true
   },
   "source": [
    "# 1. Выражения, сорта и декларации"
   ]
  },
  {
   "cell_type": "markdown",
   "id": "bd294a5c-ceb5-4500-a230-a8b3e0e1dae4",
   "metadata": {},
   "source": [
    "#### 1.1 Существует ли целое число, которое кратно 7 и 9, а также больше 0?"
   ]
  },
  {
   "cell_type": "code",
   "execution_count": 30,
   "id": "a340c76d-0321-4f22-928c-a82e2264384e",
   "metadata": {},
   "outputs": [
    {
     "name": "stdout",
     "output_type": "stream",
     "text": [
      "is expression:  True\n",
      "is application: True\n",
      "decl:           And\n",
      "num args:       3\n",
      "proved\n"
     ]
    }
   ],
   "source": [
    "# Доказательство наличия решения\n",
    "\n",
    "# целое число\n",
    "x = Int(\"x\")\n",
    "\n",
    "# Условие\n",
    "condition = And(x % 7 == 0, x % 9 == 0, x > 0)\n",
    "\n",
    "print (\"is expression: \", is_expr(condition))\n",
    "print (\"is application:\", is_app(condition))\n",
    "print (\"decl:          \", condition.decl())\n",
    "print (\"num args:      \", condition.num_args())\n",
    "\n",
    "# Доказываем что есть число, которое выполняет условия задачи (Квантор существования)\n",
    "theorem = Exists( x, condition )\n",
    "\n",
    "prove(theorem)"
   ]
  },
  {
   "cell_type": "code",
   "execution_count": 14,
   "id": "518fde63-b62d-4799-86cb-d8908f21bdae",
   "metadata": {},
   "outputs": [
    {
     "name": "stdout",
     "output_type": "stream",
     "text": [
      "Решение: x = 63\n"
     ]
    }
   ],
   "source": [
    "# Решение\n",
    "\n",
    "# Создаем солвер\n",
    "solver = Solver()\n",
    "\n",
    "# Добавляем условия в солвер\n",
    "solver.add(condition)\n",
    "\n",
    "# Решение задачи\n",
    "result = solver.check()\n",
    "\n",
    "if result == sat:\n",
    "    model = solver.model()\n",
    "    solution_x = model[x]\n",
    "    print(\"Решение: x =\", solution_x)\n",
    "else:\n",
    "    print(\"Решение не найдено. Нет целого числа, которое кратно и 7, и 9, и больше 0.\")"
   ]
  },
  {
   "cell_type": "markdown",
   "id": "aaa29567-cfcf-4cf5-8775-24d46f502bb4",
   "metadata": {},
   "source": [
    "#### 1.2 Все числа, которые делятся на 4, также делятся на 2 (проверим и найдем решение для числа большего 4)."
   ]
  },
  {
   "cell_type": "code",
   "execution_count": 35,
   "id": "0de1fa2b-30c8-48dd-993c-55197b8d8d0e",
   "metadata": {},
   "outputs": [
    {
     "name": "stdout",
     "output_type": "stream",
     "text": [
      "is expression:  True\n",
      "is application: True\n",
      "decl:           And\n",
      "num args:       2\n",
      "proved\n"
     ]
    }
   ],
   "source": [
    "# Доказательство наличия решения\n",
    "\n",
    "# целое число\n",
    "x = Int(\"x\")\n",
    "\n",
    "# Условие\n",
    "condition = And(x % 4 == 0, x > 4)\n",
    "\n",
    "print (\"is expression: \", is_expr(condition))\n",
    "print (\"is application:\", is_app(condition))\n",
    "print (\"decl:          \", condition.decl())\n",
    "print (\"num args:      \", condition.num_args())\n",
    "\n",
    "# Доказываем что все числа выполняет условия задачи (Квантор всеобщности)\n",
    "theorem = ForAll( x, Implies(condition, x % 2 == 0) )\n",
    "\n",
    "prove(theorem)"
   ]
  },
  {
   "cell_type": "code",
   "execution_count": 36,
   "id": "1caae5df-84c9-4d93-af15-ea998b968332",
   "metadata": {},
   "outputs": [
    {
     "name": "stdout",
     "output_type": "stream",
     "text": [
      "Решение: x = 8\n"
     ]
    }
   ],
   "source": [
    "# Решение\n",
    "\n",
    "# Создаем солвер\n",
    "solver = Solver()\n",
    "\n",
    "# Добавляем условия в солвер\n",
    "solver.add(condition)\n",
    "\n",
    "# Решение задачи\n",
    "result = solver.check()\n",
    "\n",
    "if result == sat:\n",
    "    model = solver.model()\n",
    "    solution_x = model[x]\n",
    "    print(\"Решение: x =\", solution_x)\n",
    "else:\n",
    "    print(\"Решение не найдено. Нет целого числа, которое кратно и 7, и 9, и больше 0.\")"
   ]
  },
  {
   "cell_type": "markdown",
   "id": "10ab1bf0-334b-420e-a806-da24192432f0",
   "metadata": {
    "jp-MarkdownHeadingCollapsed": true
   },
   "source": [
    "# 2. Массивы"
   ]
  },
  {
   "cell_type": "markdown",
   "id": "11d7e9b4-6e8e-48ac-a5e5-7712e1e33abe",
   "metadata": {},
   "source": [
    "### 2.1 Теорема: Если в массиве A все элементы равны нулю, то сумма элементов этого массива также равна нулю."
   ]
  },
  {
   "cell_type": "code",
   "execution_count": 137,
   "id": "bd638f2c-d05e-4bb4-a985-cf57f8d846b9",
   "metadata": {},
   "outputs": [
    {
     "name": "stdout",
     "output_type": "stream",
     "text": [
      "proved\n"
     ]
    }
   ],
   "source": [
    "# Создание массива целых чисел\n",
    "array_size = 5\n",
    "A = Array('A', IntSort(), IntSort())\n",
    "\n",
    "# Добавление ограничений, что все элементы равны нулю\n",
    "constraints = [A[i] == 0 for i in range(array_size)]\n",
    "\n",
    "# Добавление ограничения, что сумма элементов равна нулю\n",
    "constraints.append(Sum([Select(A, i) for i in range(array_size)]) == 0)\n",
    "\n",
    "# Доказательство\n",
    "theorem = Implies(And(constraints), True)\n",
    "prove(theorem)"
   ]
  },
  {
   "cell_type": "code",
   "execution_count": 75,
   "id": "fd27c5ab-ae5f-40db-9cac-c967a2487b8b",
   "metadata": {},
   "outputs": [
    {
     "name": "stdout",
     "output_type": "stream",
     "text": [
      "counterexample\n",
      "[A = K(Int, 0)]\n"
     ]
    }
   ],
   "source": [
    "# Проверяю обратное\n",
    "theorem = Implies(And(constraints), False)\n",
    "prove(theorem)"
   ]
  },
  {
   "cell_type": "markdown",
   "id": "e1af4ae0-32e9-4655-a6c2-edb71195407f",
   "metadata": {},
   "source": [
    "### 2.2 Теорема: Если в массиве A все элементы являются четными числами, то их сумма также является четным числом."
   ]
  },
  {
   "cell_type": "code",
   "execution_count": 136,
   "id": "c38bccb0-087e-42de-8486-7e9c8f203918",
   "metadata": {},
   "outputs": [
    {
     "name": "stdout",
     "output_type": "stream",
     "text": [
      "proved\n"
     ]
    }
   ],
   "source": [
    "# Создание массива целых чисел\n",
    "array_size = 5\n",
    "A = Array('A', IntSort(), IntSort())\n",
    "\n",
    "# Добавление ограничений, что все элементы массива четные\n",
    "constraints = [A[i] % 2 == 0 for i in range(array_size)]\n",
    "\n",
    "# Добавление ограничения, что сумма элементов массива четная\n",
    "constraints.append(Sum([Select(A, i) for i in range(array_size)]) % 2 == 0)\n",
    "\n",
    "# Доказательство\n",
    "theorem = Implies(And(constraints), True)\n",
    "prove(theorem)"
   ]
  },
  {
   "cell_type": "code",
   "execution_count": 81,
   "id": "dc2adb6d-e730-4c69-a829-e5097e5c4d67",
   "metadata": {},
   "outputs": [
    {
     "name": "stdout",
     "output_type": "stream",
     "text": [
      "counterexample\n",
      "[A = K(Int, 0)]\n"
     ]
    }
   ],
   "source": [
    "# Проверяю обратное\n",
    "theorem = Implies(And(constraints), False)\n",
    "prove(theorem)"
   ]
  },
  {
   "cell_type": "markdown",
   "id": "2c9c2457-09a6-4380-9bae-6a97dd3cdc8a",
   "metadata": {
    "jp-MarkdownHeadingCollapsed": true
   },
   "source": [
    "# 3. Кванторы"
   ]
  },
  {
   "cell_type": "markdown",
   "id": "b2125008-4f81-4dd9-bcde-0e7b81812662",
   "metadata": {},
   "source": [
    "### 3.1 Теорема: Для любых двух целых чисел a и b, если a больше или равно нулю и b больше или равно нулю, то их сумма a + b также больше или равна нулю."
   ]
  },
  {
   "cell_type": "code",
   "execution_count": 133,
   "id": "9d752fc9-4df7-4076-92db-bae2391ebaab",
   "metadata": {},
   "outputs": [
    {
     "name": "stdout",
     "output_type": "stream",
     "text": [
      "proved\n"
     ]
    }
   ],
   "source": [
    "# Создание целых переменных a и b\n",
    "a = Int('a')\n",
    "b = Int('b')\n",
    "\n",
    "# Ограничение\n",
    "condition = And(a >= 0, b >= 0)\n",
    "\n",
    "# Доказательство\n",
    "theorem = ForAll([a, b], Implies(condition, a + b >= 0))\n",
    "prove(theorem)"
   ]
  },
  {
   "cell_type": "code",
   "execution_count": 134,
   "id": "da011a6f-5e50-4be2-81f9-27a848c22cf1",
   "metadata": {},
   "outputs": [
    {
     "name": "stdout",
     "output_type": "stream",
     "text": [
      "counterexample\n",
      "[]\n"
     ]
    }
   ],
   "source": [
    "# Ложное условие\n",
    "theorem = ForAll([a, b], Implies(condition, a + b < 0))\n",
    "prove(theorem)"
   ]
  },
  {
   "cell_type": "code",
   "execution_count": 116,
   "id": "e17ce723-9dfa-4bf2-a13d-f4b13797de78",
   "metadata": {},
   "outputs": [
    {
     "name": "stdout",
     "output_type": "stream",
     "text": [
      "Решение: a = 0 b = 0\n"
     ]
    }
   ],
   "source": [
    "# Решение\n",
    "\n",
    "# Создание солвера\n",
    "solver = Solver()\n",
    "\n",
    "# Добавление ограничения в солвер\n",
    "solver.add(condition)\n",
    "\n",
    "# Решение задачи\n",
    "result = solver.check()\n",
    "\n",
    "if result == sat:\n",
    "    model = solver.model()\n",
    "    solution_a = model[a]\n",
    "    solution_b = model[b]\n",
    "    print(\"Решение: a =\", solution_a, \"b =\", solution_b)\n",
    "else:\n",
    "    print(\"Решение не найдено. Условие не выполнено.\")"
   ]
  },
  {
   "cell_type": "markdown",
   "id": "e458b259-e90f-4a7f-abfc-be1bb982cef9",
   "metadata": {},
   "source": [
    "### 3.2 Существует целое число x, которое удовлетворяет условию `x^2 - 4x + 4 = 0 и x > 1`."
   ]
  },
  {
   "cell_type": "code",
   "execution_count": 132,
   "id": "affb6ee8-b230-4fe2-ab45-93b504337b6e",
   "metadata": {},
   "outputs": [
    {
     "name": "stdout",
     "output_type": "stream",
     "text": [
      "proved\n"
     ]
    }
   ],
   "source": [
    "# Создание целой переменной x\n",
    "x = Int('x')\n",
    "\n",
    "# Условие задачи\n",
    "condition = And(x**2 - 4 * x + 4 == 0, x > 1)\n",
    "\n",
    "# Доказательство\n",
    "theorem = Exists(x, condition)\n",
    "\n",
    "prove(theorem)"
   ]
  },
  {
   "cell_type": "code",
   "execution_count": 131,
   "id": "15786a82-db0c-40cd-8585-604c4c0ac0ab",
   "metadata": {},
   "outputs": [
    {
     "name": "stdout",
     "output_type": "stream",
     "text": [
      "Решение: x = 2\n"
     ]
    }
   ],
   "source": [
    "# Решение\n",
    "\n",
    "# Создание солвера\n",
    "solver = Solver()\n",
    "\n",
    "# Добавление ограничения в солвер\n",
    "solver.add(condition)\n",
    "\n",
    "# Решение задачи\n",
    "result = solver.check()\n",
    "\n",
    "if result == sat:\n",
    "    model = solver.model()\n",
    "    print(\"Решение: x =\", model[x])\n",
    "else:\n",
    "    print(\"Решение не найдено. Условие не выполнено.\")"
   ]
  },
  {
   "cell_type": "markdown",
   "id": "6451cf6f-8db3-4537-b693-f04511874230",
   "metadata": {
    "jp-MarkdownHeadingCollapsed": true
   },
   "source": [
    "# 4. Оптимизация"
   ]
  },
  {
   "cell_type": "markdown",
   "id": "0a88419f-e3a3-45bb-9d35-580d1c51cb53",
   "metadata": {},
   "source": [
    "### 4.1 Найти максимальный элемент массива"
   ]
  },
  {
   "cell_type": "code",
   "execution_count": 13,
   "id": "db0850a0-cb7d-4dc6-ae25-264055086d13",
   "metadata": {},
   "outputs": [
    {
     "name": "stdout",
     "output_type": "stream",
     "text": [
      "Максимальный элемент в массиве: 12\n"
     ]
    }
   ],
   "source": [
    "# Создание массива целых чисел\n",
    "array_size = 5  # Размер массива\n",
    "A = [Int(f'A{i}') for i in range(array_size)]\n",
    "\n",
    "# Задание конкретных значений для элементов массива\n",
    "A_values = [3, 8, 1, 12, 5]\n",
    "constraints = [A[i] == A_values[i] for i in range(array_size)]\n",
    "\n",
    "# Создание переменной для хранения максимального элемента\n",
    "max_element = Int('max_element')\n",
    "\n",
    "# Ограничение, что каждый элемент массива меньше или равен максимальному элементу\n",
    "constraints += [A[i] <= max_element for i in range(array_size)]\n",
    "\n",
    "# Создание объекта оптимизации\n",
    "opt = Optimize()\n",
    "\n",
    "# Добавление ограничений\n",
    "for constraint in constraints:\n",
    "    opt.add(constraint)\n",
    "\n",
    "# Добавление цели для максимизации максимального элемента\n",
    "opt.maximize(max_element)\n",
    "\n",
    "# Решение задачи оптимизации\n",
    "result = opt.check()\n",
    "\n",
    "if result == sat:\n",
    "    model = opt.model()\n",
    "    max_value = model[max_element].as_long()\n",
    "    print(\"Максимальный элемент в массиве:\", max_value)\n",
    "else:\n",
    "    print(\"Решение не найдено.\")\n"
   ]
  },
  {
   "cell_type": "markdown",
   "id": "e0fd96f3-5281-4fe5-972f-767dbf7bcb67",
   "metadata": {},
   "source": [
    "### 4.2 Минимизировать функцию f(x, y) = 2x + 3y при ограничениях:\n",
    "\n",
    "```\n",
    "x > 0\n",
    "y > 0\n",
    "x + y <= 10\n",
    "2x - y <= 2\n",
    "```\n",
    "Найти значения x и y, которые минимизируют функцию `f(x, y)` при указанных ограничениях."
   ]
  },
  {
   "cell_type": "code",
   "execution_count": 5,
   "id": "f5f713d9-9410-4e68-a35d-1c24b0c00bf2",
   "metadata": {},
   "outputs": [
    {
     "name": "stdout",
     "output_type": "stream",
     "text": [
      "Минимальное значение функции f(x, y) = 11\n",
      "x = 1\n",
      "y = 3\n"
     ]
    }
   ],
   "source": [
    "# Определение функции f(x, y)\n",
    "f = Function('f', IntSort(), IntSort(), IntSort())\n",
    "\n",
    "# Создание объекта оптимизации\n",
    "opt = Optimize()\n",
    "\n",
    "# Добавление ограничений\n",
    "x = Int('x')\n",
    "y = Int('y')\n",
    "opt.add(x > 0)\n",
    "opt.add(y > 0)\n",
    "opt.add(x + y <= 10)\n",
    "opt.add(2 * x - y <= 2)\n",
    "\n",
    "# Добавление цели для минимизации функции f(x, y)\n",
    "opt.minimize(f(x, y))\n",
    "\n",
    "# Установка функции f(x, y) как 2x + 3y\n",
    "opt.add(f(x, y) == 2 * x + 3 * y)\n",
    "\n",
    "# Решение\n",
    "result = opt.check()\n",
    "\n",
    "if result == sat:\n",
    "    model = opt.model()\n",
    "    min_x = model[x].as_long()\n",
    "    min_y = model[y].as_long()\n",
    "    min_f_x_y = model.evaluate(f(x, y), model_completion=True).as_long()\n",
    "    print(\"Минимальное значение функции f(x, y) =\", min_f_x_y)\n",
    "    print(\"x =\", min_x)\n",
    "    print(\"y =\", min_y)\n",
    "else:\n",
    "    print(\"Решение не найдено.\")\n"
   ]
  },
  {
   "cell_type": "markdown",
   "id": "12382ff7-ec73-4e1d-bfad-9e77e15fe531",
   "metadata": {
    "jp-MarkdownHeadingCollapsed": true
   },
   "source": [
    "# 5. Множественные солверы"
   ]
  },
  {
   "cell_type": "markdown",
   "id": "6ce7001f-4ac3-4f3c-9e43-33d024474c09",
   "metadata": {},
   "source": [
    "### 5.1 Поиск альтернативных решений\n",
    "С помощью использования нескольких солверов можно находить альтернативные решения. \n",
    "Тут стратегия заключается в том, что с помощью первого солвера находим первое решение. Далее создаем новых солвер, в который передаем изменение ограничения, чтобы найти альтернативное решение.\n",
    "\n",
    "Например, нужно найти два целых числа x и y, таких что `x + y = 10`"
   ]
  },
  {
   "cell_type": "code",
   "execution_count": 6,
   "id": "cd429d82-efb7-4a1f-91d9-f10835d1c6a5",
   "metadata": {},
   "outputs": [
    {
     "name": "stdout",
     "output_type": "stream",
     "text": [
      "Первое решение:\n",
      "x = 10\n",
      "y = 0\n",
      "\n",
      "Альтернативное решение:\n",
      "x = 9\n",
      "y = 1\n"
     ]
    }
   ],
   "source": [
    "# Создание переменных x и y\n",
    "x = Int('x')\n",
    "y = Int('y')\n",
    "\n",
    "# Создание стандартного солвера\n",
    "solver = Solver()\n",
    "\n",
    "# Ограничение\n",
    "constraint = x + y == 10\n",
    "\n",
    "# Добавление ограничения\n",
    "solver.add(constraint)\n",
    "\n",
    "# Попытка найти первое решение\n",
    "result = solver.check()\n",
    "if result == sat:\n",
    "    model = solver.model()\n",
    "    x_value = model[x].as_long()\n",
    "    y_value = model[y].as_long()\n",
    "    print(\"Первое решение:\")\n",
    "    print(f\"x = {x_value}\")\n",
    "    print(f\"y = {y_value}\")\n",
    "\n",
    "# Создание нового солвера\n",
    "new_solver = Solver()\n",
    "# Изменение ограничения, чтобы найти альтернативное решение\n",
    "new_constraint = And(x != x_value, y != y_value)\n",
    "new_solver.add(constraint)\n",
    "new_solver.add(new_constraint)\n",
    "\n",
    "# Попытка найти альтернативное решение\n",
    "result = new_solver.check()\n",
    "if result == sat:\n",
    "    model = new_solver.model()\n",
    "    x_value = model[x].as_long()\n",
    "    y_value = model[y].as_long()\n",
    "    print()\n",
    "    print(\"Альтернативное решение:\")\n",
    "    print(f\"x = {x_value}\")\n",
    "    print(f\"y = {y_value}\")\n",
    "else:\n",
    "    print(\"Альтернативное решение не найдено.\")\n"
   ]
  },
  {
   "cell_type": "markdown",
   "id": "f2702617-fff0-49ef-8182-a49d1389501b",
   "metadata": {},
   "source": [
    "### 5.2 Проверка устойчивости решения\n",
    "Для проверки устойчивости решения можно использовать несколько разных солверов с разными стратегиями.\n",
    "В данном примере исполуем SMT Solver и Bit-Vector Solver для нахождения двух целых чисел x и y, таких что `x + y = 15` и `x > 0` и `y > 0`.\n",
    "Если солверы выдают одинаковый результат, то решение можно признать устойчивым."
   ]
  },
  {
   "cell_type": "code",
   "execution_count": 10,
   "id": "3c9a38a6-acfe-4bec-bcfa-d4fd27dba5a0",
   "metadata": {},
   "outputs": [
    {
     "name": "stdout",
     "output_type": "stream",
     "text": [
      "Решение SMT Solver:\n",
      "x = 14\n",
      "y = 1\n",
      "\n",
      "Решение Bit-Vector Solver:\n",
      "x = 14\n",
      "y = 1\n"
     ]
    }
   ],
   "source": [
    "# Создание контекста Z3 для SMT Solver\n",
    "ctx_smt = Context()\n",
    "# Создание контекста Z3 для Bit-Vector Solver\n",
    "ctx_bitvector = Context()\n",
    "\n",
    "# Создание переменных x и y для SMT Solver\n",
    "x_smt = Int('x', ctx=ctx_smt)\n",
    "y_smt = Int('y', ctx=ctx_smt)\n",
    "\n",
    "# Создание переменных x и y для Bit-Vector Solver\n",
    "x_bitvector = BitVec('x', 32, ctx=ctx_bitvector)  # 32-битные битовые векторы\n",
    "y_bitvector = BitVec('y', 32, ctx=ctx_bitvector)\n",
    "\n",
    "# Ограничение для SMT Solver: x + y = 15\n",
    "constraint_smt = And(x_smt + y_smt == 15, x_smt > 0, y_smt > 0)\n",
    "\n",
    "# Ограничение для Bit-Vector Solver: x + y = 15\n",
    "constraint_bitvector = And(x_bitvector + y_bitvector == 15, x_bitvector > 0, y_bitvector > 0)\n",
    "\n",
    "# Создание SMT Solver\n",
    "solver_smt = Solver(ctx=ctx_smt)\n",
    "solver_smt.add(constraint_smt)\n",
    "\n",
    "# Создание Bit-Vector Solver\n",
    "solver_bitvector = Solver(ctx=ctx_bitvector)\n",
    "solver_bitvector.add(constraint_bitvector)\n",
    "\n",
    "# Решение задачи с обоими солверами\n",
    "result_smt = solver_smt.check()\n",
    "result_bitvector = solver_bitvector.check()\n",
    "\n",
    "# Вывод результатов\n",
    "if result_smt == sat:\n",
    "    model_smt = solver_smt.model()\n",
    "    x_smt_value = model_smt[x_smt].as_long()\n",
    "    y_smt_value = model_smt[y_smt].as_long()\n",
    "    print(\"Решение SMT Solver:\")\n",
    "    print(f\"x = {x_smt_value}\")\n",
    "    print(f\"y = {y_smt_value}\")\n",
    "else:\n",
    "    print(\"Решение SMT Solver не найдено.\")\n",
    "\n",
    "if result_bitvector == sat:\n",
    "    model_bitvector = solver_bitvector.model()\n",
    "    x_bitvector_value = model_bitvector[x_bitvector].as_long()\n",
    "    y_bitvector_value = model_bitvector[y_bitvector].as_long()\n",
    "    print()\n",
    "    print(\"Решение Bit-Vector Solver:\")\n",
    "    print(f\"x = {x_bitvector_value}\")\n",
    "    print(f\"y = {y_bitvector_value}\")\n",
    "else:\n",
    "    print(\"Решение Bit-Vector Solver не найдено.\")\n"
   ]
  },
  {
   "cell_type": "code",
   "execution_count": null,
   "id": "9bfb9eb5-85d7-4c63-afe4-bb81540540d6",
   "metadata": {},
   "outputs": [],
   "source": []
  }
 ],
 "metadata": {
  "kernelspec": {
   "display_name": "Python 3 (ipykernel)",
   "language": "python",
   "name": "python3"
  },
  "language_info": {
   "codemirror_mode": {
    "name": "ipython",
    "version": 3
   },
   "file_extension": ".py",
   "mimetype": "text/x-python",
   "name": "python",
   "nbconvert_exporter": "python",
   "pygments_lexer": "ipython3",
   "version": "3.8.10"
  }
 },
 "nbformat": 4,
 "nbformat_minor": 5
}
