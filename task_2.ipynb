{
 "cells": [
  {
   "cell_type": "code",
   "execution_count": 2,
   "id": "4364d836-a6d2-431a-9857-c3d7dde7276a",
   "metadata": {},
   "outputs": [],
   "source": [
    "from z3 import *"
   ]
  },
  {
   "cell_type": "markdown",
   "id": "0bec0ee9-2fb5-47c2-8c08-ad3956e3794d",
   "metadata": {},
   "source": [
    "## Задача 1\n",
    "Двое рабочих, за выполненную работу получили 117 лари. Первый\r\n",
    "рабочий работал 15 дней, а второй 14 дней. Сколько получал каждый из них в день,\r\n",
    "если известно, что первый рабочий за 4 дня получил на 11 лари больше, чем второй за 3 дня?я?\r"
   ]
  },
  {
   "cell_type": "code",
   "execution_count": 32,
   "id": "dfcfe74b-70f8-42b6-83d7-975cccfdc53e",
   "metadata": {},
   "outputs": [
    {
     "name": "stdout",
     "output_type": "stream",
     "text": [
      "sat\n",
      "[x = 5, y = 3]\n"
     ]
    }
   ],
   "source": [
    "# набор тактик\n",
    "t = Then('simplify',\n",
    "         'normalize-bounds',\n",
    "         'solve-eqs')\n",
    "\n",
    "x, y = Ints('x y') # две вещественные переменные\n",
    "g  = Goal() # цель\n",
    "\n",
    "g.add(\n",
    "    15 * x + 14 * y == 117,\n",
    "    4 * x - 11 == 3 * y\n",
    ")\n",
    "\n",
    "r = t(g) # r содержит только одну подцель\n",
    "\n",
    "s = Solver()\n",
    "s.add(r[0]) # ограничение подцели\n",
    "print(s.check()) # sat\n",
    "\n",
    "s.model() # модель для подцели\n",
    "# преобразовываем эту модель в модель для главной цели с помощью convert_model()\n",
    "print(r[0].convert_model(s.model()))"
   ]
  },
  {
   "cell_type": "markdown",
   "id": "ce3cb4a4-3838-4720-a12e-7a76f52ed9e2",
   "metadata": {},
   "source": [
    "### Решение chatGPT\n",
    "Решение верное.\n",
    "\n",
    "Ответ: Первый рабочий получает 5 лари в день, а второй рабочий получает 3 лари в день."
   ]
  },
  {
   "cell_type": "markdown",
   "id": "391087e5-2cb2-48aa-8f5f-a0d2e2ea3e1d",
   "metadata": {},
   "source": [
    "## Задача 2\n",
    "Пусть у нас есть два числа, сумма которых равна 0. Если мы добавим 123 к одному из них, мы получим значение, которое вдвое больше другого числа.\n",
    "Что это за числа?"
   ]
  },
  {
   "cell_type": "code",
   "execution_count": 28,
   "id": "90e229dc-ea79-44fd-a30d-86686f2529ce",
   "metadata": {},
   "outputs": [
    {
     "name": "stdout",
     "output_type": "stream",
     "text": [
      "sat\n",
      "[y = 41, x = -41]\n"
     ]
    }
   ],
   "source": [
    "# набор тактик\n",
    "t = Then('simplify',\n",
    "         'normalize-bounds',\n",
    "         'solve-eqs')\n",
    "\n",
    "x, y = Ints('x y') # две вещественные переменные\n",
    "g  = Goal() # цель\n",
    "\n",
    "g.add(\n",
    "    x + y == 0,\n",
    "    x + 123 == 2 * y\n",
    ")\n",
    "\n",
    "r = t(g) # r содержит только одну подцель\n",
    "\n",
    "s = Solver()\n",
    "s.add(r[0]) # ограничение подцели\n",
    "print(s.check()) # sat\n",
    "\n",
    "s.model() # модель для подцели\n",
    "# преобразовываем эту модель в модель для главной цели с помощью convert_model()\n",
    "print(r[0].convert_model(s.model()))"
   ]
  },
  {
   "cell_type": "markdown",
   "id": "8a757152-e450-4b47-9728-0a0e1a84ac74",
   "metadata": {},
   "source": [
    "### Решение chatGPT\n",
    "Решение верное.\n",
    "\n",
    "Ответ:\n",
    "два числа равны -41 и 41. Эти числа удовлетворяют условиям задачи: их сумма равна 0, и если к одному из них (41) добавить 123, то получится значение (164), которое вдвое больше другого числа (-41)."
   ]
  },
  {
   "cell_type": "markdown",
   "id": "2209d842-a763-4e38-93e8-0150b4071f1b",
   "metadata": {},
   "source": [
    "## Задача 3\n",
    "Навстречу друг другу из одного города в другой, расстояние между которыми составляет 30 км, едут два велосипедиста. Предположим, что если велосипедист 1 выедет на 2 ч раньше своего товарища, то они встретятся через 2,5 часа после отъезда велосипедиста 2; если же велосипедист 2 выедет 2мя часами ранее велосипедсита 1, то встреча произойдет через 3 часа после отъезда первого. С какой скоростью движется каждый велосипедист?"
   ]
  },
  {
   "cell_type": "code",
   "execution_count": 36,
   "id": "589ede81-b9a7-4a79-abb4-e0c35edc924e",
   "metadata": {},
   "outputs": [
    {
     "name": "stdout",
     "output_type": "stream",
     "text": [
      "sat\n",
      "[x = 5, y = 3]\n"
     ]
    }
   ],
   "source": [
    "# набор тактик\n",
    "t = Then('simplify',\n",
    "         'normalize-bounds',\n",
    "         'solve-eqs')\n",
    "\n",
    "x, y = Ints('x y') # две вещественные переменные\n",
    "g  = Goal() # цель\n",
    "\n",
    "g.add(\n",
    "    9/2 * x + 5/2 * y == 30,\n",
    "    3 * x + 5 * y == 30\n",
    ")\n",
    "\n",
    "r = t(g) # r содержит только одну подцель\n",
    "    \n",
    "s = Solver()\n",
    "s.add(r[0]) # ограничение подцели\n",
    "print(s.check()) # sat\n",
    "\n",
    "s.model() # модель для подцели\n",
    "# преобразовываем эту модель в модель для главной цели с помощью convert_model()\n",
    "print(r[0].convert_model(s.model()))"
   ]
  },
  {
   "cell_type": "markdown",
   "id": "b6d42a4d-e7bf-4ff8-a98e-4a4991d1fce4",
   "metadata": {},
   "source": [
    "### Решение chatGPT\n",
    "Также неверное решение. Не учел условия о том, что один велосипедист выедет на некоторе время раньше.\n",
    "\n",
    "Ответ: Скорость первого велосипедиста (V1) составляет 2 км/ч, а скорость второго велосипедиста (V2) составляет 10 км/ч."
   ]
  },
  {
   "cell_type": "markdown",
   "id": "723c9cde-d350-429f-a4aa-d331d5bf1121",
   "metadata": {},
   "source": [
    "## Задача 4\n",
    "Из двух городов, расстояние между которыми 500 км, выехали одновременно два поезда и встретились через 4 ч. Если бы второй поезд выехал на 50 мин раньше первого, то они встретились бы через 3 ч 36 мин. Найдите скорость каждого поезда."
   ]
  },
  {
   "cell_type": "code",
   "execution_count": 65,
   "id": "d67d5cb4-4a03-49cd-9cb5-8a9eabf36f20",
   "metadata": {},
   "outputs": [
    {
     "name": "stdout",
     "output_type": "stream",
     "text": [
      "sat\n"
     ]
    },
    {
     "data": {
      "text/plain": [
       "(65.00000000000004, 59.99999999999995)"
      ]
     },
     "execution_count": 65,
     "metadata": {},
     "output_type": "execute_result"
    }
   ],
   "source": [
    "# набор тактик\n",
    "t = Then('simplify',\n",
    "         'normalize-bounds',\n",
    "         'solve-eqs')\n",
    "\n",
    "v1, v2 = Reals('v1 v2') # две вещественные переменные\n",
    "g  = Goal() # цель\n",
    "\n",
    "g.add(\n",
    "    (v1 + v2) * 4 == 500,\n",
    "    3.6 * v1 + (3.6 + 5/6) * v2 == 500\n",
    ")\n",
    "\n",
    "r = t(g) # r содержит только одну подцель\n",
    "\n",
    "s = Solver()\n",
    "s.add(r[0]) # ограничение подцели\n",
    "print(s.check()) # sat\n",
    "\n",
    "s.model() # модель для подцели\n",
    "# преобразовываем эту модель в модель для главной цели с помощью convert_model()\n",
    "result = r[0].convert_model(s.model())\n",
    "\n",
    "v1_value = result[v1].numerator_as_long() / result[v1].denominator_as_long()\n",
    "v2_value = result[v2].numerator_as_long() / result[v2].denominator_as_long()\n",
    "\n",
    "v1_value, v2_value"
   ]
  },
  {
   "cell_type": "markdown",
   "id": "7e618260-fa4a-43e0-ad6a-9b89b6003e8b",
   "metadata": {},
   "source": [
    "### Решение chatGPT\n",
    "Решение неверное.\n",
    "\n",
    "К моему удивлению тут также дает неверный ответ. Он не учел, что поезд выехал на 50 минут раньше.\n",
    "\n",
    "Ответ: Скорость первого поезда (V1) составляет 112.5 км/ч, а скорость второго поезда (V2) составляет 12.5 км/ч."
   ]
  },
  {
   "cell_type": "markdown",
   "id": "bb1cc3c0-426c-4dc9-bd6d-c1441c1ac6c8",
   "metadata": {},
   "source": [
    "## Задача 5\n",
    "Расстояние 36 км один лыжник прошел на 0,5 ч быстрее, чем другой. Найдите скорость каждого лыжника, если скорость одного из них на 1 км/ч больше скорости другого.\n"
   ]
  },
  {
   "cell_type": "code",
   "execution_count": 74,
   "id": "058e95c3-5e6f-4f4f-87f0-5ff88272728f",
   "metadata": {},
   "outputs": [
    {
     "name": "stdout",
     "output_type": "stream",
     "text": [
      "sat\n"
     ]
    },
    {
     "data": {
      "text/plain": [
       "(9, 8)"
      ]
     },
     "execution_count": 74,
     "metadata": {},
     "output_type": "execute_result"
    }
   ],
   "source": [
    "# набор тактик\n",
    "t = Then('simplify',\n",
    "         'normalize-bounds',\n",
    "         'solve-eqs')\n",
    "\n",
    "v1, v2 = Reals('v1 v2') # две вещественные переменные\n",
    "g  = Goal() # цель\n",
    "\n",
    "g.add(\n",
    "    v1 > 0,\n",
    "    v2 > 0,\n",
    "    36 / v1 == 36 / v2 - 0.5,\n",
    "    v1 == v2 + 1\n",
    ")\n",
    "\n",
    "r = t(g) # r содержит только одну подцель\n",
    "\n",
    "s = Solver()\n",
    "s.add(r[0]) # ограничение подцели\n",
    "print(s.check()) # sat\n",
    "\n",
    "s.model() # модель для подцели\n",
    "# преобразовываем эту модель в модель для главной цели с помощью convert_model()\n",
    "result = r[0].convert_model(s.model())\n",
    "\n",
    "v1_value = result[v1].numerator_as_long() // result[v1].denominator_as_long()\n",
    "v2_value = result[v2].numerator_as_long() // result[v2].denominator_as_long()\n",
    "\n",
    "v1_value, v2_value"
   ]
  },
  {
   "cell_type": "markdown",
   "id": "9c8a6e0d-fc53-46c1-b43c-0c95cef83203",
   "metadata": {},
   "source": [
    "### Решение chatGPT\n",
    "Решение неверное.\n",
    "\n",
    "Если попросить решить задачу, не уточняя доп. условий, то дает неверное решение - скорость первого лыжника составляет 1 км/ч, а скорость второго лыжника равна 0 км/ч.\n",
    "\n",
    "Точно такое же решение получается и в Z3, если не указывать дополнительные ограничения, что скорости должны быть больше нуля."
   ]
  },
  {
   "cell_type": "code",
   "execution_count": null,
   "id": "de75a4a8-23ab-4c0f-a7d7-1ad9d49c0dcf",
   "metadata": {},
   "outputs": [],
   "source": []
  }
 ],
 "metadata": {
  "kernelspec": {
   "display_name": "Python 3 (ipykernel)",
   "language": "python",
   "name": "python3"
  },
  "language_info": {
   "codemirror_mode": {
    "name": "ipython",
    "version": 3
   },
   "file_extension": ".py",
   "mimetype": "text/x-python",
   "name": "python",
   "nbconvert_exporter": "python",
   "pygments_lexer": "ipython3",
   "version": "3.8.10"
  }
 },
 "nbformat": 4,
 "nbformat_minor": 5
}
