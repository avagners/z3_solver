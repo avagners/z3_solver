{
 "cells": [
  {
   "cell_type": "code",
   "execution_count": 64,
   "id": "fd4b2139-c1c4-453f-9c94-095a070b5725",
   "metadata": {},
   "outputs": [],
   "source": [
    "from z3 import *"
   ]
  },
  {
   "cell_type": "markdown",
   "id": "391f6de5-6544-46f5-b1ad-9eac813c11fa",
   "metadata": {},
   "source": [
    "## 1. Решите все задания из ноутбука."
   ]
  },
  {
   "cell_type": "markdown",
   "id": "0ca0ca20-3e9f-45a7-bcca-5ec586939372",
   "metadata": {},
   "source": [
    "### Задание №1\n",
    "Найдите корень уравнения x**3 + 3*x**2 + 4*x + 2 == 0 с помощью Z3. Сможете вы применить Z3 так, чтобы доказать, что найденный корень единственный, или опровергнуть это утверждение?"
   ]
  },
  {
   "cell_type": "code",
   "execution_count": 62,
   "id": "602f29b7-240d-4d1f-b4f2-4407793fdd33",
   "metadata": {},
   "outputs": [
    {
     "name": "stdout",
     "output_type": "stream",
     "text": [
      "counterexample\n",
      "[x = 0]\n"
     ]
    }
   ],
   "source": [
    "x = Real(\"x\")\n",
    "\n",
    "theorem = Implies(x != -1, x**3 + 3*x**2 + 4*x + 2 == 0)\n",
    "prove(theorem)  # доказать истинность утверждения не удалось - соотвественно \"-1\" является единственным"
   ]
  },
  {
   "cell_type": "markdown",
   "id": "4c9362f1-a03d-43f6-b384-46a206a02da4",
   "metadata": {},
   "source": [
    "### Задание №2\n",
    "\n",
    "Существуют так называемые правила де Моргана, которые утверждают, что:\n",
    "\n",
    "-- отрицание конъюнкции есть дизъюнкция отрицаний `p & q == ~ (~p | ~q)`\n",
    "\n",
    "-- отрицание дизъюнкции есть конъюнкция отрицаний `p | q == ~ (~p & ~q)`\n",
    "\n",
    "```python\n",
    "prove( And(p,q) == Not(Or(Not(p),Not(q))))\n",
    "prove2( And(p,q) == Not(Or(Not(p),Not(q))))\n",
    "```\n",
    "\n",
    "Докажите второе правило самостоятельно.\n"
   ]
  },
  {
   "cell_type": "code",
   "execution_count": 61,
   "id": "0989e925-7217-40e3-8b9a-5548b34be547",
   "metadata": {},
   "outputs": [
    {
     "name": "stdout",
     "output_type": "stream",
     "text": [
      "proved\n",
      "доказано\n"
     ]
    }
   ],
   "source": [
    "def prove2(f): # упрощенная версия функции prove() Z3\n",
    "    s = Solver()\n",
    "    s.add(Not(f))\n",
    "    if s.check() == unsat:\n",
    "        print(\"доказано\")\n",
    "    else:\n",
    "        print(\"опровергнуто\")\n",
    "\n",
    "p = Bool(\"p\")\n",
    "q = Bool(\"q\")\n",
    "\n",
    "prove( Or(p,q) == Not(And(Not(p),Not(q))) )\n",
    "prove2( Or(p,q) == Not(And(Not(p),Not(q))) )"
   ]
  },
  {
   "cell_type": "markdown",
   "id": "90f16bc1-a0ca-4ac7-8d16-e98c6ebc30fc",
   "metadata": {},
   "source": [
    "---\n",
    "## 2. Придумайте 4-5 задач по доказательству теорем."
   ]
  },
  {
   "cell_type": "markdown",
   "id": "f49b7edf-16e3-42db-a8cf-dc7a53832564",
   "metadata": {},
   "source": [
    "1) Теорема о четности суммы:\n",
    "Если два целых числа являются четными, то их сумма также будет четной. "
   ]
  },
  {
   "cell_type": "code",
   "execution_count": 2,
   "id": "24730225-2077-4c3c-ba52-b49c4f4ed299",
   "metadata": {},
   "outputs": [
    {
     "name": "stdout",
     "output_type": "stream",
     "text": [
      "proved\n"
     ]
    }
   ],
   "source": [
    "# Решение\n",
    "\n",
    "# целые\n",
    "x, y = Ints(\"x y\")\n",
    "\n",
    "# Доказываем теорему\n",
    "theorem = Implies(And(x % 2 == 0, y % 2 == 0), (x + y) % 2 == 0)\n",
    "\n",
    "prove(theorem)"
   ]
  },
  {
   "cell_type": "markdown",
   "id": "f7900166-b81c-4295-84d5-f56b4f674216",
   "metadata": {},
   "source": [
    "2) Теорема о делении на 2 и 4:\r\n",
    "Если целое число делится на 4, то оно также делится на 2. Однако обратное не всегда верно: не все числа, которые делятся на 2, делятся на 4."
   ]
  },
  {
   "cell_type": "code",
   "execution_count": 65,
   "id": "83649df3-808d-4282-aafc-9be0f47251a2",
   "metadata": {},
   "outputs": [
    {
     "name": "stdout",
     "output_type": "stream",
     "text": [
      "proved\n"
     ]
    }
   ],
   "source": [
    "# Решение\n",
    "\n",
    "# целые\n",
    "x = Int(\"x\")\n",
    "\n",
    "# Доказываем теорему\n",
    "theorem = Implies(x % 4 == 0, x % 2 == 0)\n",
    "\n",
    "prove(theorem)"
   ]
  },
  {
   "cell_type": "code",
   "execution_count": 66,
   "id": "9c317aab-0e22-4fff-a66b-d835bc273deb",
   "metadata": {},
   "outputs": [
    {
     "name": "stdout",
     "output_type": "stream",
     "text": [
      "counterexample\n",
      "[x = -2]\n"
     ]
    }
   ],
   "source": [
    "# Доказываем что не все числа, которые делятся на 2, делятся на 4.\n",
    "theorem = Implies(x % 2 == 0, x % 4 == 0)\n",
    "prove(theorem)"
   ]
  },
  {
   "cell_type": "markdown",
   "id": "e1f9922f-2f35-437e-95b9-d6f896b5e208",
   "metadata": {},
   "source": [
    "3) Теорема о делении на 6:\n",
    "Целое число делится на 6 тогда и только тогда, когда оно делится как на 2, так и на 3."
   ]
  },
  {
   "cell_type": "code",
   "execution_count": 67,
   "id": "9db8c2d9-23b3-4691-87d6-802d95ce821d",
   "metadata": {},
   "outputs": [
    {
     "name": "stdout",
     "output_type": "stream",
     "text": [
      "proved\n"
     ]
    }
   ],
   "source": [
    "# Решение\n",
    "\n",
    "# целые\n",
    "x = Int(\"x\")\n",
    "\n",
    "# Доказываем теорему\n",
    "theorem = Implies(And(x % 2 == 0, x % 3 == 0), x % 6 == 0)\n",
    "\n",
    "prove(theorem)"
   ]
  },
  {
   "cell_type": "code",
   "execution_count": 68,
   "id": "962b6a18-032f-4dd6-a3c7-b7513649239e",
   "metadata": {},
   "outputs": [
    {
     "name": "stdout",
     "output_type": "stream",
     "text": [
      "counterexample\n",
      "[x = 1]\n"
     ]
    }
   ],
   "source": [
    "# Доказываем обратное\n",
    "theorem = Implies(Or(x % 2 != 0, x % 3 != 0), x % 6 == 0)\n",
    "\n",
    "prove(theorem)"
   ]
  },
  {
   "cell_type": "markdown",
   "id": "dab60e50-41e6-4b4b-ba5c-26f892bcf054",
   "metadata": {},
   "source": [
    "4) Теорема о свойствах умножения на ноль:\r\n",
    "Для любого целого числа a, произведение a на ноль равно нулю."
   ]
  },
  {
   "cell_type": "code",
   "execution_count": 69,
   "id": "85e1247a-fb36-4b16-9773-944929d981f0",
   "metadata": {},
   "outputs": [
    {
     "name": "stdout",
     "output_type": "stream",
     "text": [
      "proved\n"
     ]
    }
   ],
   "source": [
    "# Решение\n",
    "\n",
    "# целые\n",
    "x = Int(\"x\")\n",
    "\n",
    "# Доказываем теорему\n",
    "theorem = ForAll(x, x * 0 == 0)\n",
    "\n",
    "prove(theorem)"
   ]
  },
  {
   "cell_type": "code",
   "execution_count": 70,
   "id": "faa548f6-9227-4c01-a84d-2831a9009ce8",
   "metadata": {},
   "outputs": [
    {
     "name": "stdout",
     "output_type": "stream",
     "text": [
      "proved\n"
     ]
    }
   ],
   "source": [
    "# Доказываем обратное - не существует ни одного\n",
    "theorem = Not(Exists(x, x * 0 != 0))\n",
    "\n",
    "prove(theorem)"
   ]
  },
  {
   "cell_type": "markdown",
   "id": "40ec58a7-9b5b-4bf9-b192-17f96e9a006e",
   "metadata": {},
   "source": [
    "5) Теорема о делении с остатком:\r\n",
    "Для любых целых чисел a и b, где b не равно нулю, существуют уникальные целые числа q и r, такие что a = bq + r, где q - целая часть результата деления, а r - остаток от деления."
   ]
  },
  {
   "cell_type": "code",
   "execution_count": 71,
   "id": "fbb44d2d-93d9-43b0-bf64-401fea9287c2",
   "metadata": {},
   "outputs": [
    {
     "name": "stdout",
     "output_type": "stream",
     "text": [
      "proved\n"
     ]
    }
   ],
   "source": [
    "# Создаем символы для переменных\n",
    "a = Int('a')\n",
    "b = Int('b')\n",
    "\n",
    "# Создаем символы для целых чисел q и r\n",
    "q = Int('q')\n",
    "r = Int('r')\n",
    "\n",
    "# Доказываем теорему\n",
    "theorem = ForAll([a, b], Implies(And(b != 0, r == a % b, q == a / b), a == b * q + r))\n",
    "prove(theorem)"
   ]
  },
  {
   "cell_type": "markdown",
   "id": "a3f01376-88c8-4484-8b19-9683b717c882",
   "metadata": {},
   "source": [
    "### P.s. что на счет chatGPT?\n",
    "\n",
    "Он дает развернутое доказательство. Логика некоторых доказательств отличается. \n",
    "В задачах, где требуется целочисленное деление без остатка, он вводит дополнительную переменную \"k\", чтобы через нее выразить \"n\".\n",
    "Например, вот так он показыват четность числа `n = 2k`. Исходя из этого строится дальнейшее доказательство.  \n",
    "Доказательство теоремы свойства умножения на наль предложил построить через сумму числа \"0\" \"n\" раз (я же сделал с помощью метода перебора).\n",
    "Доказательство теоремы о делении с остатком предложил построить через множество всех чисел, которые можно получить в виде `a−bq`, где `q` - числое число.  \n",
    "`S={ a − bq ∣ q ∈ Z }`"
   ]
  }
 ],
 "metadata": {
  "kernelspec": {
   "display_name": "Python 3 (ipykernel)",
   "language": "python",
   "name": "python3"
  },
  "language_info": {
   "codemirror_mode": {
    "name": "ipython",
    "version": 3
   },
   "file_extension": ".py",
   "mimetype": "text/x-python",
   "name": "python",
   "nbconvert_exporter": "python",
   "pygments_lexer": "ipython3",
   "version": "3.8.10"
  }
 },
 "nbformat": 4,
 "nbformat_minor": 5
}
